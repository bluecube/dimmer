{
 "cells": [
  {
   "cell_type": "code",
   "execution_count": 119,
   "metadata": {},
   "outputs": [],
   "source": [
    "import math"
   ]
  },
  {
   "cell_type": "markdown",
   "metadata": {},
   "source": [
    "# Ultimate PWM dimmer\n",
    "- Low quiescent current voltage regulator: AP7381\n",
    "  - 2.5uA quiescent current\n",
    "- ATTINY25V\n",
    "  - https://ww1.microchip.com/downloads/en/DeviceDoc/Atmel-2586-AVR-8-bit-Microcontroller-ATtiny25-ATtiny45-ATtiny85_Datasheet.pdf\n",
    "  - 128kHz internal low speed oscillator (datasheet 6.2.4)\n",
    "  - Timer/Counter0 times UI intervals at about 64Hz (base clock with prescaler 8 and counting up to 0xff)\n",
    "  - Fall back to IDLE mode as often as possible (all work done in interrupts)\n"
   ]
  },
  {
   "cell_type": "markdown",
   "metadata": {},
   "source": [
    "## States\n",
    "- *On*\n",
    "  - Output PWM is running (or 100% on)\n",
    "  - Handle user input from the button\n",
    "  - Mostly in IDLE state\n",
    "  - Must switch to *Off* state during power loss\n",
    "- *Off*\n",
    "  - State is already saved in EEPROM\n",
    "  - Output is off\n",
    "  - MCU in SLEEP state, waiting for external interrupt from the button\n",
    "- *No power*"
   ]
  },
  {
   "cell_type": "markdown",
   "metadata": {},
   "source": [
    "## Transistor losses calculation"
   ]
  },
  {
   "cell_type": "code",
   "execution_count": 120,
   "metadata": {},
   "outputs": [],
   "source": [
    "Imax = 5"
   ]
  },
  {
   "cell_type": "code",
   "execution_count": 121,
   "metadata": {},
   "outputs": [],
   "source": [
    "Umin = 5\n",
    "Umax = 24"
   ]
  },
  {
   "cell_type": "markdown",
   "metadata": {},
   "source": [
    "Timer/Counter1 running from internal PLL with LSM bit set (32Mhz), prescaler 8, OCR1C = 0xA7"
   ]
  },
  {
   "cell_type": "code",
   "execution_count": 122,
   "metadata": {},
   "outputs": [
    {
     "data": {
      "text/plain": [
       "25115.59281437126"
      ]
     },
     "execution_count": 122,
     "metadata": {},
     "output_type": "execute_result"
    }
   ],
   "source": [
    "f_pwm = 32*2**20 / 8 / 0xa7\n",
    "f_pwm"
   ]
  },
  {
   "cell_type": "code",
   "execution_count": 143,
   "metadata": {},
   "outputs": [],
   "source": [
    "Igate_max = 70e-3"
   ]
  },
  {
   "cell_type": "code",
   "execution_count": 144,
   "metadata": {},
   "outputs": [],
   "source": [
    "def transistor_losses(Rdson, Qgsgd):\n",
    "    conduction_loss = Imax**2 * Rdson\n",
    "    switching_loss = Umax * Imax * f_pwm * Qgsgd / Igate_max\n",
    "    return {\"conduction\": conduction_loss, \"switching\": switching_loss, \"total\": conduction_loss + switching_loss}"
   ]
  },
  {
   "cell_type": "markdown",
   "metadata": {},
   "source": [
    "### PMV20XNER"
   ]
  },
  {
   "cell_type": "code",
   "execution_count": 145,
   "metadata": {},
   "outputs": [
    {
     "data": {
      "text/plain": [
       "{'conduction': 0.625,\n",
       " 'switching': 0.14208249649272883,\n",
       " 'total': 0.7670824964927289}"
      ]
     },
     "execution_count": 145,
     "metadata": {},
     "output_type": "execute_result"
    }
   ],
   "source": [
    "transistor_losses(Rdson=25e-3, Qgsgd=3.3e-9)"
   ]
  },
  {
   "cell_type": "markdown",
   "metadata": {},
   "source": [
    "### ECH8697R\n",
    "Not usable -- too low $V_{DS Max}$"
   ]
  },
  {
   "cell_type": "code",
   "execution_count": 146,
   "metadata": {},
   "outputs": [
    {
     "data": {
      "text/plain": [
       "{'conduction': 0.29,\n",
       " 'switching': 0.08611060393498716,\n",
       " 'total': 0.37611060393498713}"
      ]
     },
     "execution_count": 146,
     "metadata": {},
     "output_type": "execute_result"
    }
   ],
   "source": [
    "transistor_losses(Rdson=11.6e-3, Qgsgd=2e-9)"
   ]
  },
  {
   "cell_type": "markdown",
   "metadata": {},
   "source": [
    "### AO4752\n",
    "https://www.digikey.cz/product-detail/en/alpha-omega-semiconductor-inc/AO4752/785-1597-1-ND/3712546"
   ]
  },
  {
   "cell_type": "code",
   "execution_count": 147,
   "metadata": {
    "scrolled": true
   },
   "outputs": [
    {
     "data": {
      "text/plain": [
       "{'conduction': 0.3875,\n",
       " 'switching': 0.19805438905047046,\n",
       " 'total': 0.5855543890504704}"
      ]
     },
     "execution_count": 147,
     "metadata": {},
     "output_type": "execute_result"
    }
   ],
   "source": [
    "transistor_losses(Rdson=15.5e-3, Qgsgd=4.6e-9)"
   ]
  },
  {
   "cell_type": "markdown",
   "metadata": {},
   "source": [
    "### IRL6342PbF"
   ]
  },
  {
   "cell_type": "code",
   "execution_count": 148,
   "metadata": {
    "scrolled": true
   },
   "outputs": [
    {
     "data": {
      "text/plain": [
       "{'conduction': 0.365,\n",
       " 'switching': 0.22388757023096664,\n",
       " 'total': 0.5888875702309666}"
      ]
     },
     "execution_count": 148,
     "metadata": {},
     "output_type": "execute_result"
    }
   ],
   "source": [
    "transistor_losses(Rdson=14.6e-3, Qgsgd=5.2e-9)"
   ]
  },
  {
   "cell_type": "markdown",
   "metadata": {},
   "source": [
    "### IRLR8726PbF"
   ]
  },
  {
   "cell_type": "code",
   "execution_count": 149,
   "metadata": {
    "scrolled": true
   },
   "outputs": [
    {
     "data": {
      "text/plain": [
       "{'conduction': 0.2,\n",
       " 'switching': 0.3272202949529512,\n",
       " 'total': 0.5272202949529512}"
      ]
     },
     "execution_count": 149,
     "metadata": {},
     "output_type": "execute_result"
    }
   ],
   "source": [
    "transistor_losses(Rdson=8e-3, Qgsgd=1.9e-9+5.7e-9)"
   ]
  },
  {
   "cell_type": "markdown",
   "metadata": {},
   "source": [
    "## Transistor gate resistor"
   ]
  },
  {
   "cell_type": "code",
   "execution_count": 161,
   "metadata": {},
   "outputs": [],
   "source": [
    "r_pin = 0.44/20e-3\n",
    "r_gate_internal = 2  # For IRL6342Pbf\n",
    "i_pin = 40e-3\n",
    "vcc = 5 * 1.02 - 0.4"
   ]
  },
  {
   "cell_type": "code",
   "execution_count": 162,
   "metadata": {},
   "outputs": [
    {
     "data": {
      "text/plain": [
       "45.74999999999999"
      ]
     },
     "execution_count": 162,
     "metadata": {},
     "output_type": "execute_result"
    }
   ],
   "source": [
    "r_gate = vcc / (2 * i_pin) - r_pin / 2 - r_gate_internal\n",
    "r_gate"
   ]
  },
  {
   "cell_type": "markdown",
   "metadata": {},
   "source": [
    "## Voltage sensing\n",
    "\n",
    "AN2447 !!\n",
    "    - Use Vcc as ADC reference\n",
    "    - use V_ref as measured value\n",
    "    - then Vcc = 1024 * V_ref / output"
   ]
  },
  {
   "cell_type": "code",
   "execution_count": 106,
   "metadata": {},
   "outputs": [],
   "source": [
    "v_ref = 1.1 # AVR's internal votage reference\n",
    "v_ref_min = 1.0\n",
    "v_ref_max = 1.2\n",
    "v_trigger = 3.7 # We want the power down to trigger (approximately) at Vcc = 3.7V\n",
    "v_min = 2 # AVR can safely do EEPROM writes until 2V\n",
    "r_equiv_saving = 30e3 / 2  # Calculated from active power consumption at 128khz and around 4.5V, 2x safety margin\n",
    "r_equiv_running = 42e3 / (2 * (1 + 0.8 + 0.25)) # Calculated from idle power consumption at 128kHz and around 4V, with Timer1 and ADC enabled, 2x safety margin\n",
    "f_cpu_min = 114e3\n",
    "adc_sampling_time = 1 * 13 / f_cpu_min\n",
    "adc_accuracy = 2"
   ]
  },
  {
   "cell_type": "code",
   "execution_count": 107,
   "metadata": {},
   "outputs": [
    {
     "data": {
      "text/plain": [
       "304"
      ]
     },
     "execution_count": 107,
     "metadata": {},
     "output_type": "execute_result"
    }
   ],
   "source": [
    "trigger_adc_output = round(1024 * v_ref / v_trigger)\n",
    "trigger_adc_output"
   ]
  },
  {
   "cell_type": "code",
   "execution_count": 108,
   "metadata": {},
   "outputs": [
    {
     "data": {
      "text/plain": [
       "3.34640522875817"
      ]
     },
     "execution_count": 108,
     "metadata": {},
     "output_type": "execute_result"
    }
   ],
   "source": [
    "min_v_trigger = 1024 * v_ref_min / (trigger_adc_output + adc_accuracy)\n",
    "min_v_trigger"
   ]
  },
  {
   "cell_type": "code",
   "execution_count": 109,
   "metadata": {},
   "outputs": [
    {
     "data": {
      "text/plain": [
       "4.0688741721854305"
      ]
     },
     "execution_count": 109,
     "metadata": {},
     "output_type": "execute_result"
    }
   ],
   "source": [
    "max_v_trigger = 1024 * v_ref_max / (trigger_adc_output - adc_accuracy)\n",
    "max_v_trigger"
   ]
  },
  {
   "cell_type": "code",
   "execution_count": 110,
   "metadata": {},
   "outputs": [],
   "source": [
    "def capacitor_discharge_time(v0, v1, r, c):\n",
    "    return -r * c * math.log(v1 / v0)\n",
    "def capacitor_discharge_voltage(v0, r, c, t):\n",
    "    return v0 * math.exp(-t / (r * c))"
   ]
  },
  {
   "cell_type": "code",
   "execution_count": 111,
   "metadata": {},
   "outputs": [],
   "source": [
    "def poweroff_runtime(c):\n",
    "    voltage_when_detected = capacitor_discharge_voltage(min_v_trigger, r_equiv_running, c, adc_sampling_time)\n",
    "    runtime = capacitor_discharge_time(voltage_when_detected, v_min, r_equiv_saving, c)\n",
    "    return {\"runtime\": runtime,\n",
    "            \"voltage_when_detected\": voltage_when_detected}"
   ]
  },
  {
   "cell_type": "code",
   "execution_count": 112,
   "metadata": {},
   "outputs": [
    {
     "data": {
      "text/plain": [
       "{'runtime': 0.01512078388581299, 'voltage_when_detected': 3.3276437904558582}"
      ]
     },
     "execution_count": 112,
     "metadata": {},
     "output_type": "execute_result"
    }
   ],
   "source": [
    "poweroff_runtime(2.2e-6 * 0.9)"
   ]
  },
  {
   "cell_type": "code",
   "execution_count": null,
   "metadata": {},
   "outputs": [],
   "source": []
  },
  {
   "cell_type": "code",
   "execution_count": null,
   "metadata": {},
   "outputs": [],
   "source": []
  }
 ],
 "metadata": {
  "kernelspec": {
   "display_name": "Python 3",
   "language": "python3",
   "name": "python3"
  },
  "language_info": {
   "codemirror_mode": {
    "name": "ipython",
    "version": 3
   },
   "file_extension": ".py",
   "mimetype": "text/x-python",
   "name": "python",
   "nbconvert_exporter": "python",
   "pygments_lexer": "ipython3",
   "version": "3.6.5"
  }
 },
 "nbformat": 4,
 "nbformat_minor": 2
}
